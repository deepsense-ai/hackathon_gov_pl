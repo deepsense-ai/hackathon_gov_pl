{
 "cells": [
  {
   "cell_type": "code",
   "execution_count": 9,
   "metadata": {
    "collapsed": true
   },
   "outputs": [],
   "source": [
    "import os\n",
    "import datetime"
   ]
  },
  {
   "cell_type": "code",
   "execution_count": 10,
   "metadata": {
    "collapsed": true
   },
   "outputs": [],
   "source": [
    "pliczki = map(lambda x: 'gotten/' + x, filter(lambda x: x.endswith('.parsed'), os.listdir('gotten/')))"
   ]
  },
  {
   "cell_type": "code",
   "execution_count": 11,
   "metadata": {
    "collapsed": false
   },
   "outputs": [
    {
     "data": {
      "text/plain": [
       "[(datetime.date(1990, 1, 1), 'None', 'jadwiga bieluch', ['None']),\n",
       " (datetime.date(1990, 1, 1), 'None', 'gontarczyk stefan', ['None']),\n",
       " (datetime.date(1990, 1, 1), '00-000', 'brak danych', ['None']),\n",
       " (datetime.date(1990, 1, 1), 'None', 'rafal zwierz', ['None']),\n",
       " (datetime.date(1990, 1, 1), 'None', 'tadeusz brulinski', ['None']),\n",
       " (datetime.date(1990, 1, 1), '02-679', 'miroslaw swiecicki', ['4729Z']),\n",
       " (datetime.date(1990, 1, 1), 'None', 'kazimiera fyk', ['None']),\n",
       " (datetime.date(1990, 1, 1), '80-754', 'janusz jazdzewski', ['None']),\n",
       " (datetime.date(1990, 1, 1), '84-223', 'cyman ryszard', ['None'])]"
      ]
     },
     "execution_count": 11,
     "metadata": {},
     "output_type": "execute_result"
    }
   ],
   "source": [
    "wszystko = []\n",
    "for plik in pliczki:\n",
    "    with open(plik) as inF:\n",
    "        for l in inF:\n",
    "            kod,czas,naz,dzi = l.strip().split(',', 3)\n",
    "            dzi = dzi.split(',')\n",
    "            try:\n",
    "                czas = datetime.date(*map(int, czas.split('-')))\n",
    "            except ValueError:\n",
    "                print kod, czas, naz, dzi\n",
    "                continue\n",
    "            wszystko.append((czas,kod,naz,dzi))\n",
    "wszystko.sort(key=lambda x: x[0])\n",
    "wszystko[1:10]"
   ]
  },
  {
   "cell_type": "code",
   "execution_count": 21,
   "metadata": {
    "collapsed": true
   },
   "outputs": [],
   "source": [
    "from collections import defaultdict\n",
    "def groupBy(lista, fun):\n",
    "    ret = defaultdict(lambda: [])\n",
    "    for el in lista:\n",
    "        ret[fun(el)].append(el)\n",
    "    return ret"
   ]
  },
  {
   "cell_type": "code",
   "execution_count": 38,
   "metadata": {
    "collapsed": false
   },
   "outputs": [
    {
     "name": "stdout",
     "output_type": "stream",
     "text": [
      "1990 1\n",
      "1999 1\n",
      "2001 2\n",
      "2003 1\n",
      "2004 5\n",
      "2005 2\n",
      "2006 2\n",
      "2007 4\n",
      "2008 6\n",
      "2009 7\n",
      "2010 2\n",
      "2011 5\n",
      "2012 6\n",
      "2013 1\n",
      "2014 6\n",
      "2015 4\n",
      "2016 1\n"
     ]
    }
   ],
   "source": [
    "for k,v in groupBy(filter(lambda x: x[2].find('fundusz') > -1 and x[2].find('euro') > -1, wszystko), lambda x: x[0].year).iteritems():\n",
    "    print k, len(v)"
   ]
  },
  {
   "cell_type": "code",
   "execution_count": 45,
   "metadata": {
    "collapsed": false
   },
   "outputs": [
    {
     "name": "stdout",
     "output_type": "stream",
     "text": [
      "1990 20\n",
      "1991 12\n",
      "1992 18\n",
      "1993 4\n",
      "1994 4\n",
      "1995 6\n",
      "1996 5\n",
      "1997 6\n",
      "1998 11\n",
      "1999 16\n",
      "2000 15\n",
      "2001 35\n",
      "2002 17\n",
      "2003 20\n",
      "2004 21\n",
      "2005 28\n",
      "2006 21\n",
      "2007 26\n",
      "2008 21\n",
      "2009 11\n",
      "2010 10\n",
      "2011 7\n"
     ]
    }
   ],
   "source": [
    "for k,v in groupBy(filter(lambda x: \"0111Z\" in x[3][0:1], wszystko), lambda x: x[0].year).iteritems():\n",
    "    print k, len(v)"
   ]
  },
  {
   "cell_type": "code",
   "execution_count": 46,
   "metadata": {
    "collapsed": false
   },
   "outputs": [
    {
     "name": "stdout",
     "output_type": "stream",
     "text": [
      "1990 20\n",
      "1991 12\n",
      "1992 18\n",
      "1993 4\n",
      "1994 4\n",
      "1995 6\n",
      "1996 5\n",
      "1997 6\n",
      "1998 11\n",
      "1999 16\n",
      "2000 15\n",
      "2001 35\n",
      "2002 17\n",
      "2003 20\n",
      "2004 21\n",
      "2005 28\n",
      "2006 21\n",
      "2007 26\n",
      "2008 21\n",
      "2009 11\n",
      "2010 10\n",
      "2011 7\n"
     ]
    }
   ],
   "source": [
    "for k,v in groupBy(filter(lambda x: \"0111Z\" in x[3][0:], wszystko), lambda x: x[0].year).iteritems():\n",
    "    print k, len(v)"
   ]
  }
 ],
 "metadata": {
  "kernelspec": {
   "display_name": "Python2 (pypy)",
   "language": "python",
   "name": "pypykern"
  },
  "language_info": {
   "codemirror_mode": {
    "name": "ipython",
    "version": 2
   },
   "file_extension": ".py",
   "mimetype": "text/x-python",
   "name": "python",
   "nbconvert_exporter": "python",
   "pygments_lexer": "ipython2",
   "version": "2.7.10"
  }
 },
 "nbformat": 4,
 "nbformat_minor": 0
}
