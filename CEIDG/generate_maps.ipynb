{
 "cells": [
  {
   "cell_type": "code",
   "execution_count": 1,
   "metadata": {
    "collapsed": false
   },
   "outputs": [],
   "source": [
    "import folium\n",
    "from matplotlib.colors import Normalize, rgb2hex\n",
    "import matplotlib.cm as cm\n",
    "import urllib2\n",
    "import json\n",
    "import os\n",
    "import datetime"
   ]
  },
  {
   "cell_type": "code",
   "execution_count": 2,
   "metadata": {
    "collapsed": false
   },
   "outputs": [],
   "source": [
    "zips3 = eval(open('kody_pocztowe3.dict').readline().strip())\n",
    "zips2 = eval(open('kody_pocztowe2.dict').readline().strip())"
   ]
  },
  {
   "cell_type": "code",
   "execution_count": 4,
   "metadata": {
    "collapsed": true
   },
   "outputs": [],
   "source": [
    "import random\n",
    "def add_companies_to_map(view, companies, coloUr = 'blue'):\n",
    "    fg = folium.FeatureGroup(name = 'company locations ' + coloUr)\n",
    "    random.seed(42)\n",
    "    for i,company in enumerate(companies):\n",
    "        lat, lng = None, None\n",
    "        if company.postal == 'None':\n",
    "            continue\n",
    "        if zips3.get(company.postal[0:4], None) != None:\n",
    "            lat, lng = zips3.get(company.postal[0:4])\n",
    "        elif zips2.get(company.postal[0:2], None) != None:\n",
    "            lat, lng = zips2.get(company.postal[0:2])\n",
    "        else:\n",
    "            continue\n",
    "        lat += random.gauss(0.0, 0.0001)\n",
    "        lng += random.gauss(0.0, 0.0001)\n",
    "        fg.add_child(folium.Marker(location=[lat,lng], icon=folium.Icon(color=coloUr)))\n",
    "    view.add_child(fg)"
   ]
  },
  {
   "cell_type": "code",
   "execution_count": 6,
   "metadata": {
    "collapsed": false
   },
   "outputs": [],
   "source": [
    "ceidg_files = map(lambda x: 'gotten/' + x, filter(lambda x: x.endswith('.parsed'), os.listdir('gotten/')))"
   ]
  },
  {
   "cell_type": "code",
   "execution_count": 7,
   "metadata": {
    "collapsed": true
   },
   "outputs": [],
   "source": [
    "class Company():\n",
    "   def __init__(self, postal, date, name, codes):\n",
    "       self.postal = postal\n",
    "       self.date = date\n",
    "       self.name = name\n",
    "       self.codes = codes"
   ]
  },
  {
   "cell_type": "code",
   "execution_count": 8,
   "metadata": {
    "collapsed": true
   },
   "outputs": [],
   "source": [
    "def read_company(row):\n",
    "    kod,czas,naz,dzi = row.strip().split(',', 3)\n",
    "    dzi = dzi.split(',')\n",
    "    czas = datetime.date(*map(int, czas.split('-')))\n",
    "    return Company(kod, czas, naz, dzi)"
   ]
  },
  {
   "cell_type": "code",
   "execution_count": 9,
   "metadata": {
    "collapsed": true
   },
   "outputs": [],
   "source": [
    "from collections import defaultdict\n",
    "def groupBy(lista, fun):\n",
    "    ret = defaultdict(lambda: [])\n",
    "    for el in lista:\n",
    "        ret[fun(el)].append(el)\n",
    "    return ret"
   ]
  },
  {
   "cell_type": "code",
   "execution_count": 13,
   "metadata": {
    "collapsed": true
   },
   "outputs": [],
   "source": [
    "def ok(comp):\n",
    "    return comp.name.find('kebab') > -1 or comp.name.find('kebap') > -1"
   ]
  },
  {
   "cell_type": "code",
   "execution_count": null,
   "metadata": {
    "collapsed": false
   },
   "outputs": [],
   "source": [
    "import subprocess\n",
    "\n",
    "prev_companies = None\n",
    "for year in range(1990, 2017):\n",
    "    view = folium.Map(location=[52, 19], zoom_start=6)\n",
    "    companies = []\n",
    "    for file in ceidg_files:\n",
    "        if int(file[len('gotten/ceidg'):len('gotten/ceidg')+4]) < year:\n",
    "            with open(file) as inF:\n",
    "                for row in inF:\n",
    "                    if not row.startswith('None'):\n",
    "                        comp = read_company(row)\n",
    "                        if ok(comp):\n",
    "                            companies.append(comp)\n",
    "    add_companies_to_map(view, companies)\n",
    "    companies = []\n",
    "    for file in ceidg_files:\n",
    "        if int(file[len('gotten/ceidg'):len('gotten/ceidg')+4]) == year:\n",
    "            with open(file) as inF:\n",
    "                for row in inF:\n",
    "                    if not row.startswith('None'):\n",
    "                        comp = read_company(row)\n",
    "                        if ok(comp):\n",
    "                            companies.append(comp)\n",
    "    add_companies_to_map(view, companies, 'red')\n",
    "    url = 'temporary/{}.html'.format(str(year))\n",
    "    png = 'temporary/{}.png'.format(str(year))\n",
    "    gif = 'temporary/{}.gif'.format(str(year))\n",
    "    view.save(url)\n",
    "    subprocess.call(['/home/jkmilczek/cutycapt/CutyCapt/CutyCapt', '--url={}'.format(url), '--out={}'.format(png), '--delay=2000'])\n",
    "    os.system('convert {} -pointsize 41 -draw \\'text 10,50 \"Year {}\"\\' {}'.format(png, year, gif))"
   ]
  },
  {
   "cell_type": "code",
   "execution_count": null,
   "metadata": {
    "collapsed": false
   },
   "outputs": [],
   "source": [
    "with open('out.gif', 'w') as outF:\n",
    "    os.system('gifsicle --delay=50 temporary/*.gif > kebab.gif')"
   ]
  }
 ],
 "metadata": {
  "kernelspec": {
   "display_name": "Python 2",
   "language": "python",
   "name": "python2"
  },
  "language_info": {
   "codemirror_mode": {
    "name": "ipython",
    "version": 2
   },
   "file_extension": ".py",
   "mimetype": "text/x-python",
   "name": "python",
   "nbconvert_exporter": "python",
   "pygments_lexer": "ipython2",
   "version": "2.7.12"
  }
 },
 "nbformat": 4,
 "nbformat_minor": 1
}
